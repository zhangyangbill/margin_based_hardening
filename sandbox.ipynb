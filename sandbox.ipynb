{
 "cells": [
  {
   "cell_type": "code",
   "execution_count": 1,
   "metadata": {},
   "outputs": [
    {
     "name": "stdout",
     "output_type": "stream",
     "text": [
      "INFO:tensorflow:Restoring parameters from ./tmp/model1.ckpt\n"
     ]
    }
   ],
   "source": [
    "from mnist import mnist\n",
    "\n",
    "model = mnist()\n",
    "model.saver.restore(model.sess, \"./tmp/model1.ckpt\")\n",
    "\n",
    "from compute_margin import margin\n",
    "\n",
    "m = margin(model.logits, model.x, model.y_, model.sess, [model.keep_prob])"
   ]
  },
  {
   "cell_type": "code",
   "execution_count": 2,
   "metadata": {},
   "outputs": [
    {
     "name": "stdout",
     "output_type": "stream",
     "text": [
      "Extracting MNIST_data/train-images-idx3-ubyte.gz\n",
      "Extracting MNIST_data/train-labels-idx1-ubyte.gz\n",
      "Extracting MNIST_data/t10k-images-idx3-ubyte.gz\n",
      "Extracting MNIST_data/t10k-labels-idx1-ubyte.gz\n",
      "[[ 10.99561977  -3.67161894   4.25041342  -2.97681737  -9.58084297\n",
      "   -1.25990069  -4.51893663  -2.11113954  -2.83970237  -0.91596359]]\n",
      "Iteration 0: logit diff = 14.6672382355, distance = 0.0\n",
      "Iteration 1: logit diff = -3.37763667107, distance = 10.4304847717\n",
      "Iteration 0: logit diff = 6.74520635605, distance = 0.0\n",
      "Iteration 1: logit diff = -3.96134757996, distance = 2.41760730743\n",
      "Iteration 0: logit diff = 13.9724369049, distance = 0.0\n",
      "Iteration 1: logit diff = -10.6806697845, distance = 12.0652141571\n",
      "Iteration 0: logit diff = 20.576461792, distance = 0.0\n",
      "Iteration 1: logit diff = -0.45793068409, distance = 18.515838623\n",
      "Iteration 0: logit diff = 12.2555208206, distance = 0.0\n",
      "Iteration 1: logit diff = -5.51973867416, distance = 7.86182594299\n",
      "Iteration 0: logit diff = 15.5145568848, distance = 0.0\n",
      "Iteration 1: logit diff = 1.9789712429, distance = 9.18002414703\n",
      "Iteration 0: logit diff = 13.1067590714, distance = 0.0\n",
      "Iteration 1: logit diff = -2.44346618652, distance = 6.90237998962\n",
      "Iteration 0: logit diff = 13.8353223801, distance = 0.0\n",
      "Iteration 1: logit diff = -3.89207100868, distance = 8.85204219818\n",
      "Iteration 0: logit diff = 11.9115829468, distance = 0.0\n",
      "Iteration 1: logit diff = -3.52691841125, distance = 6.6239118576\n",
      "[array([[ 10.99561977,  -3.67161894,   4.25041342,  -2.97681737,\n",
      "         -9.58084297,  -1.25990069,  -4.51893663,  -2.11113954,\n",
      "         -2.83970237,  -0.91596359]], dtype=float32), array([ True], dtype=bool)]\n"
     ]
    }
   ],
   "source": [
    "from tensorflow.examples.tutorials.mnist import input_data\n",
    "mnist = input_data.read_data_sets('MNIST_data', one_hot=True)\n",
    "batch = mnist.train.next_batch(1)\n",
    "\n",
    "dist, closest_point, pred_class = m.compute_margin(batch[0], batch[1], [1], num_iterations = 2)\n",
    "\n",
    "print(model.sess.run([model.logits, model.correct_prediction], \n",
    "               feed_dict = {model.x: batch[0], \n",
    "                            model.y_: batch[1],\n",
    "                            model.keep_prob: 1}))"
   ]
  },
  {
   "cell_type": "code",
   "execution_count": 7,
   "metadata": {},
   "outputs": [
    {
     "name": "stdout",
     "output_type": "stream",
     "text": [
      "4\n",
      "[[ 0.  0.  0.  0.  0.  0.  0.  1.  0.  0.]]\n"
     ]
    }
   ],
   "source": [
    "print(pred_class)\n",
    "print(batch[1])"
   ]
  },
  {
   "cell_type": "code",
   "execution_count": 1,
   "metadata": {},
   "outputs": [
    {
     "name": "stdout",
     "output_type": "stream",
     "text": [
      "INFO:tensorflow:Restoring parameters from ./tmp/model.ckpt\n",
      "Extracting MNIST_data/train-images-idx3-ubyte.gz\n",
      "Extracting MNIST_data/train-labels-idx1-ubyte.gz\n",
      "Extracting MNIST_data/t10k-images-idx3-ubyte.gz\n",
      "Extracting MNIST_data/t10k-labels-idx1-ubyte.gz\n",
      "Iteration 0: logit diff = 12.0052032471, distance = 0.0\n",
      "Iteration 1: logit diff = 10.3998908997, distance = 6.2938375473\n",
      "Iteration 0: logit diff = 8.27169418335, distance = 0.0\n",
      "Iteration 1: logit diff = 5.2284412384, distance = 2.77886390686\n",
      "Iteration 0: logit diff = 8.96464824677, distance = 0.0\n",
      "Iteration 1: logit diff = 4.90794944763, distance = 4.65663480759\n",
      "Iteration 0: logit diff = 9.44163322449, distance = 0.0\n",
      "Iteration 1: logit diff = 5.57593727112, distance = 4.53225231171\n",
      "Iteration 0: logit diff = 8.44661617279, distance = 0.0\n",
      "Iteration 1: logit diff = 5.1012802124, distance = 3.24506878853\n",
      "Iteration 0: logit diff = 9.9200553894, distance = 0.0\n",
      "Iteration 1: logit diff = 7.32602214813, distance = 5.1738448143\n",
      "Iteration 0: logit diff = 10.1809749603, distance = 0.0\n",
      "Iteration 1: logit diff = 6.8063993454, distance = 5.25025939941\n",
      "Iteration 0: logit diff = 10.3778085709, distance = 0.0\n",
      "Iteration 1: logit diff = 7.50484466553, distance = 4.8798122406\n",
      "Iteration 0: logit diff = 10.378452301, distance = 0.0\n",
      "Iteration 1: logit diff = 6.59457683563, distance = 5.26663732529\n"
     ]
    }
   ],
   "source": [
    "run 'main.py'"
   ]
  }
 ],
 "metadata": {
  "kernelspec": {
   "display_name": "Python 2",
   "language": "python",
   "name": "python2"
  },
  "language_info": {
   "codemirror_mode": {
    "name": "ipython",
    "version": 2
   },
   "file_extension": ".py",
   "mimetype": "text/x-python",
   "name": "python",
   "nbconvert_exporter": "python",
   "pygments_lexer": "ipython2",
   "version": "2.7.10"
  }
 },
 "nbformat": 4,
 "nbformat_minor": 2
}
